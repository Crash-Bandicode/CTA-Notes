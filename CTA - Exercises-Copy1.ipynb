{
 "cells": [
  {
   "cell_type": "markdown",
   "metadata": {},
   "source": [
    "# Week 3 Exercises:"
   ]
  },
  {
   "cell_type": "markdown",
   "metadata": {},
   "source": [
    "### Q1: Write an algorithm that returns the largest element in an array. Assume the array is unsorted."
   ]
  },
  {
   "cell_type": "code",
   "execution_count": 1,
   "metadata": {
    "scrolled": false
   },
   "outputs": [
    {
     "name": "stdout",
     "output_type": "stream",
     "text": [
      "20\n"
     ]
    }
   ],
   "source": [
    "arr = [1, 7, 4, 2, 8, 8, 20, 4, 1]\n",
    "\n",
    "MAX = arr[0]\n",
    "\n",
    "for i in arr:\n",
    "    if i > MAX:\n",
    "        MAX = i\n",
    "\n",
    "print(MAX)"
   ]
  },
  {
   "cell_type": "markdown",
   "metadata": {},
   "source": [
    "### Q2: Write an algorithm that returns a new array which is the reverse of the input."
   ]
  },
  {
   "cell_type": "code",
   "execution_count": 45,
   "metadata": {
    "collapsed": true,
    "scrolled": false
   },
   "outputs": [
    {
     "name": "stdout",
     "output_type": "stream",
     "text": [
      "['s', 'y', 'u', 'g', 'i', 'h']\n"
     ]
    }
   ],
   "source": [
    "arr = ['h', 'i', 'g', 'u', 'y', 's']\n",
    "\n",
    "length = len(arr)\n",
    "endIndex = (length - 1)\n",
    "newArr = [ ]\n",
    "\n",
    "# Add last element of arr to newArr,\n",
    "# then move to next last element & do same,\n",
    "# iterate through to first elemnt.\n",
    "while endIndex >= 0:\n",
    "    newArr.append(arr[endIndex])\n",
    "    endIndex -= 1\n",
    "\n",
    "print(newArr)"
   ]
  },
  {
   "cell_type": "markdown",
   "metadata": {},
   "source": [
    "### Q3: Write an algorithm that checks if an element is in an array:"
   ]
  },
  {
   "cell_type": "code",
   "execution_count": 58,
   "metadata": {
    "collapsed": true,
    "scrolled": false
   },
   "outputs": [
    {
     "name": "stdout",
     "output_type": "stream",
     "text": [
      "True\n"
     ]
    }
   ],
   "source": [
    "arr = [0,1,2,3,4,5,6,7]\n",
    "\n",
    "x = 7\n",
    "\n",
    "for i in arr:\n",
    "    if i == x:\n",
    "        print('True')"
   ]
  },
  {
   "cell_type": "markdown",
   "metadata": {},
   "source": [
    "### Q4. Write an algorithm that returns the elements on odd positions in an array.\n"
   ]
  },
  {
   "cell_type": "code",
   "execution_count": 73,
   "metadata": {
    "collapsed": true,
    "scrolled": false
   },
   "outputs": [
    {
     "name": "stdout",
     "output_type": "stream",
     "text": [
      "[1, 3, 5, 7]\n"
     ]
    }
   ],
   "source": [
    "arr = [0,1,2,3,4,5,6,7]\n",
    "x = 0\n",
    "newArr = []\n",
    "\n",
    "for i in arr:\n",
    "    if arr[x] % 2 != 0:\n",
    "        newArr.append(x)\n",
    "    x += 1\n",
    "    \n",
    "print(newArr)"
   ]
  },
  {
   "cell_type": "markdown",
   "metadata": {},
   "source": [
    "### Q5. Write an algorithm that computes the running total of an array of numbers."
   ]
  },
  {
   "cell_type": "code",
   "execution_count": 70,
   "metadata": {
    "collapsed": true,
    "scrolled": false
   },
   "outputs": [
    {
     "name": "stdout",
     "output_type": "stream",
     "text": [
      "6\n"
     ]
    }
   ],
   "source": [
    "arr = [0,1,2,3]\n",
    "x = 0\n",
    "\n",
    "for i in arr:\n",
    "    x = i + x\n",
    "    \n",
    "print(x)"
   ]
  },
  {
   "cell_type": "markdown",
   "metadata": {},
   "source": [
    "### Q6. Write an algorithm that prints a multiplication table for numbers up to 12.\n"
   ]
  },
  {
   "cell_type": "code",
   "execution_count": 83,
   "metadata": {
    "collapsed": true,
    "scrolled": true
   },
   "outputs": [
    {
     "name": "stdout",
     "output_type": "stream",
     "text": [
      "1 x 0 = 0\n",
      "2 x 0 = 0\n",
      "3 x 0 = 0\n",
      "4 x 0 = 0\n",
      "5 x 0 = 0\n",
      "6 x 0 = 0\n",
      "7 x 0 = 0\n",
      "8 x 0 = 0\n",
      "9 x 0 = 0\n",
      "10 x 0 = 0\n",
      "11 x 0 = 0\n",
      "12 x 0 = 0\n",
      "1 x 1 = 1\n",
      "2 x 1 = 2\n",
      "3 x 1 = 3\n",
      "4 x 1 = 4\n",
      "5 x 1 = 5\n",
      "6 x 1 = 6\n",
      "7 x 1 = 7\n",
      "8 x 1 = 8\n",
      "9 x 1 = 9\n",
      "10 x 1 = 10\n",
      "11 x 1 = 11\n",
      "12 x 1 = 12\n",
      "1 x 2 = 2\n",
      "2 x 2 = 4\n",
      "3 x 2 = 6\n",
      "4 x 2 = 8\n",
      "5 x 2 = 10\n",
      "6 x 2 = 12\n",
      "7 x 2 = 14\n",
      "8 x 2 = 16\n",
      "9 x 2 = 18\n",
      "10 x 2 = 20\n",
      "11 x 2 = 22\n",
      "12 x 2 = 24\n",
      "1 x 3 = 3\n",
      "2 x 3 = 6\n",
      "3 x 3 = 9\n",
      "4 x 3 = 12\n",
      "5 x 3 = 15\n",
      "6 x 3 = 18\n",
      "7 x 3 = 21\n",
      "8 x 3 = 24\n",
      "9 x 3 = 27\n",
      "10 x 3 = 30\n",
      "11 x 3 = 33\n",
      "12 x 3 = 36\n",
      "1 x 4 = 4\n",
      "2 x 4 = 8\n",
      "3 x 4 = 12\n",
      "4 x 4 = 16\n",
      "5 x 4 = 20\n",
      "6 x 4 = 24\n",
      "7 x 4 = 28\n",
      "8 x 4 = 32\n",
      "9 x 4 = 36\n",
      "10 x 4 = 40\n",
      "11 x 4 = 44\n",
      "12 x 4 = 48\n",
      "1 x 5 = 5\n",
      "2 x 5 = 10\n",
      "3 x 5 = 15\n",
      "4 x 5 = 20\n",
      "5 x 5 = 25\n",
      "6 x 5 = 30\n",
      "7 x 5 = 35\n",
      "8 x 5 = 40\n",
      "9 x 5 = 45\n",
      "10 x 5 = 50\n",
      "11 x 5 = 55\n",
      "12 x 5 = 60\n",
      "1 x 6 = 6\n",
      "2 x 6 = 12\n",
      "3 x 6 = 18\n",
      "4 x 6 = 24\n",
      "5 x 6 = 30\n",
      "6 x 6 = 36\n",
      "7 x 6 = 42\n",
      "8 x 6 = 48\n",
      "9 x 6 = 54\n",
      "10 x 6 = 60\n",
      "11 x 6 = 66\n",
      "12 x 6 = 72\n",
      "1 x 7 = 7\n",
      "2 x 7 = 14\n",
      "3 x 7 = 21\n",
      "4 x 7 = 28\n",
      "5 x 7 = 35\n",
      "6 x 7 = 42\n",
      "7 x 7 = 49\n",
      "8 x 7 = 56\n",
      "9 x 7 = 63\n",
      "10 x 7 = 70\n",
      "11 x 7 = 77\n",
      "12 x 7 = 84\n",
      "1 x 8 = 8\n",
      "2 x 8 = 16\n",
      "3 x 8 = 24\n",
      "4 x 8 = 32\n",
      "5 x 8 = 40\n",
      "6 x 8 = 48\n",
      "7 x 8 = 56\n",
      "8 x 8 = 64\n",
      "9 x 8 = 72\n",
      "10 x 8 = 80\n",
      "11 x 8 = 88\n",
      "12 x 8 = 96\n",
      "1 x 9 = 9\n",
      "2 x 9 = 18\n",
      "3 x 9 = 27\n",
      "4 x 9 = 36\n",
      "5 x 9 = 45\n",
      "6 x 9 = 54\n",
      "7 x 9 = 63\n",
      "8 x 9 = 72\n",
      "9 x 9 = 81\n",
      "10 x 9 = 90\n",
      "11 x 9 = 99\n",
      "12 x 9 = 108\n",
      "1 x 10 = 10\n",
      "2 x 10 = 20\n",
      "3 x 10 = 30\n",
      "4 x 10 = 40\n",
      "5 x 10 = 50\n",
      "6 x 10 = 60\n",
      "7 x 10 = 70\n",
      "8 x 10 = 80\n",
      "9 x 10 = 90\n",
      "10 x 10 = 100\n",
      "11 x 10 = 110\n",
      "12 x 10 = 120\n",
      "1 x 11 = 11\n",
      "2 x 11 = 22\n",
      "3 x 11 = 33\n",
      "4 x 11 = 44\n",
      "5 x 11 = 55\n",
      "6 x 11 = 66\n",
      "7 x 11 = 77\n",
      "8 x 11 = 88\n",
      "9 x 11 = 99\n",
      "10 x 11 = 110\n",
      "11 x 11 = 121\n",
      "12 x 11 = 132\n"
     ]
    }
   ],
   "source": [
    "arr = (1,2,3,4,5,6,7,8,9,10,11,12)\n",
    "\n",
    "x = 0\n",
    "\n",
    "for j in arr:    \n",
    "    for i in arr:\n",
    "        print(i, 'x', x, '=', (i*x))\n",
    "    x += 1"
   ]
  },
  {
   "cell_type": "markdown",
   "metadata": {},
   "source": [
    "### Q7. Write an algorithm that prints the first 100 prime numbers.\n"
   ]
  },
  {
   "cell_type": "code",
   "execution_count": 57,
   "metadata": {
    "scrolled": true
   },
   "outputs": [
    {
     "name": "stdout",
     "output_type": "stream",
     "text": [
      "False\n",
      "5\n",
      "False\n",
      "False\n",
      "7\n",
      "7\n",
      "False\n",
      "8\n",
      "False\n",
      "9\n",
      "False\n",
      "9\n",
      "False\n",
      "10\n",
      "10\n",
      "False\n",
      "11\n",
      "11\n",
      "11\n",
      "11\n",
      "False\n",
      "False\n",
      "False\n",
      "12\n",
      "False\n",
      "13\n",
      "13\n",
      "13\n",
      "13\n",
      "13\n",
      "False\n",
      "14\n",
      "14\n",
      "14\n",
      "14\n",
      "False\n",
      "15\n",
      "False\n",
      "15\n",
      "False\n",
      "15\n",
      "15\n",
      "False\n",
      "16\n",
      "False\n",
      "16\n",
      "16\n",
      "16\n",
      "False\n",
      "17\n",
      "17\n",
      "17\n",
      "17\n",
      "17\n",
      "17\n",
      "17\n",
      "False\n",
      "False\n",
      "18\n",
      "18\n",
      "False\n",
      "18\n",
      "18\n",
      "False\n",
      "19\n",
      "19\n",
      "19\n",
      "19\n",
      "19\n",
      "19\n",
      "19\n",
      "19\n",
      "False\n",
      "20\n",
      "False\n",
      "False\n",
      "20\n",
      "20\n",
      "20\n",
      "20\n",
      "False\n",
      "21\n",
      "False\n",
      "21\n",
      "21\n",
      "21\n",
      "False\n",
      "21\n",
      "21\n",
      "21\n"
     ]
    }
   ],
   "source": [
    "# Video didn't explain very well, come back to this.\n",
    "\n",
    "arr = [1,2,3,4,5,6,7,8,9,10,11,12,13,14,15,16,17,18,19,20,21]\n",
    "\n",
    "newArr = []\n",
    "\n",
    "\n",
    "# idea was that if a number isn't divisible by half itself or less \n",
    "# then it is a prime number, but still getting false positives. \n",
    "\n",
    "for i in arr:\n",
    "    g = int(i / 2)\n",
    "    x = list(range(2, g))\n",
    "    for j in x:\n",
    "        if i % j == 0:\n",
    "            print(False)\n",
    "        else:\n",
    "            print(i)"
   ]
  },
  {
   "cell_type": "markdown",
   "metadata": {},
   "source": [
    "### Q8. Write an algorithm that prints the numbers from 1 to 100 and for multiples of ’3’ print “Fizz” instead of the number and for the multiples of ’5’ print “Buzz”."
   ]
  },
  {
   "cell_type": "code",
   "execution_count": 103,
   "metadata": {
    "scrolled": false
   },
   "outputs": [
    {
     "name": "stdout",
     "output_type": "stream",
     "text": [
      "1\n",
      "2\n",
      "Fizz\n",
      "4\n",
      "Buzz\n",
      "Fizz\n",
      "7\n",
      "8\n",
      "Fizz\n",
      "Buzz\n",
      "11\n",
      "Fizz\n",
      "13\n",
      "14\n",
      "Fizz Buzz\n",
      "16\n",
      "17\n",
      "Fizz\n",
      "19\n",
      "Buzz\n",
      "Fizz\n",
      "22\n",
      "23\n",
      "Fizz\n",
      "Buzz\n",
      "26\n",
      "Fizz\n",
      "28\n",
      "29\n",
      "Fizz Buzz\n",
      "31\n",
      "32\n",
      "Fizz\n",
      "34\n",
      "Buzz\n",
      "Fizz\n",
      "37\n",
      "38\n",
      "Fizz\n",
      "Buzz\n",
      "41\n",
      "Fizz\n",
      "43\n",
      "44\n",
      "Fizz Buzz\n",
      "46\n",
      "47\n",
      "Fizz\n",
      "49\n",
      "Buzz\n",
      "Fizz\n",
      "52\n",
      "53\n",
      "Fizz\n",
      "Buzz\n",
      "56\n",
      "Fizz\n",
      "58\n",
      "59\n",
      "Fizz Buzz\n",
      "61\n",
      "62\n",
      "Fizz\n",
      "64\n",
      "Buzz\n",
      "Fizz\n",
      "67\n",
      "68\n",
      "Fizz\n",
      "Buzz\n",
      "71\n",
      "Fizz\n",
      "73\n",
      "74\n",
      "Fizz Buzz\n",
      "76\n",
      "77\n",
      "Fizz\n",
      "79\n",
      "Buzz\n",
      "Fizz\n",
      "82\n",
      "83\n",
      "Fizz\n",
      "Buzz\n",
      "86\n",
      "Fizz\n",
      "88\n",
      "89\n",
      "Fizz Buzz\n",
      "91\n",
      "92\n",
      "Fizz\n",
      "94\n",
      "Buzz\n",
      "Fizz\n",
      "97\n",
      "98\n",
      "Fizz\n",
      "Buzz\n"
     ]
    }
   ],
   "source": [
    "arr = (list(range(1, 101)))\n",
    "\n",
    "for i in arr:\n",
    "    if i % 15 == 0:\n",
    "        print('Fizz', 'Buzz')\n",
    "    elif i % 3 == 0:\n",
    "        print('Fizz')\n",
    "    elif i % 5 == 0:\n",
    "        print('Buzz')\n",
    "    else:\n",
    "        print(i)"
   ]
  },
  {
   "cell_type": "markdown",
   "metadata": {},
   "source": [
    "# Caesar Cypher"
   ]
  },
  {
   "cell_type": "code",
   "execution_count": 175,
   "metadata": {},
   "outputs": [
    {
     "name": "stdout",
     "output_type": "stream",
     "text": [
      "Nybcnrw mrmwc truu qrvbnuo\n"
     ]
    }
   ],
   "source": [
    "def encrypt(plain_text, offset):\n",
    "    cipher_text = ''\n",
    "\n",
    "    for i in plain_text:\n",
    "        # ord gets asci value of letter\n",
    "        numerical_value = ord(i)\n",
    "        if (i.isupper()):\n",
    "# upper chars start from 65, so subtract 65, add offset\n",
    "# and the % operator will give remainder of i/26\n",
    "# which will loop around if goes above 26\n",
    "# then add back 65 and use chr to convert from ASCII number to new letter\n",
    "            adjusted = ((numerical_value + offset - 65) % 26) + 65\n",
    "            cipher_text += chr(adjusted)\n",
    "# To add spaces,since space's ASCII value is 32:\n",
    "        elif numerical_value == 32:\n",
    "            cipher_text += i\n",
    "        else:\n",
    "# for lower case characters:\n",
    "            adjusted = ((numerical_value + offset - 97) % 26) + 97\n",
    "            cipher_text += chr(adjusted)\n",
    "    \n",
    "    return cipher_text\n",
    "\n",
    "print(encrypt('Epstein didnt kill himself', 9))"
   ]
  },
  {
   "cell_type": "markdown",
   "metadata": {},
   "source": [
    "### Cipher decription Algorithm:"
   ]
  },
  {
   "cell_type": "code",
   "execution_count": 177,
   "metadata": {},
   "outputs": [
    {
     "name": "stdout",
     "output_type": "stream",
     "text": [
      "Epstein didnt kill himself\n"
     ]
    }
   ],
   "source": [
    "def encrypt(plain_text, offset):\n",
    "    cipher_text = ''\n",
    "\n",
    "    for i in plain_text:\n",
    "        # ord gets asci value of letter\n",
    "        numerical_value = ord(i)\n",
    "        if (i.isupper()):\n",
    "# upper chars start from 65, so subtract 65, add offset\n",
    "# and the % operator will give remainder of i/26\n",
    "# which will loop around if goes above 26\n",
    "# then add back 65 and use chr to convert from ASCII number to new letter\n",
    "            adjusted = ((numerical_value + offset - 65) % 26) + 65\n",
    "            cipher_text += chr(adjusted)\n",
    "# To add spaces,since space's ASCII value is 32:\n",
    "        elif numerical_value == 32:\n",
    "            cipher_text += i\n",
    "        else:\n",
    "# for lower case characters:\n",
    "            adjusted = ((numerical_value + offset - 97) % 26) + 97\n",
    "            cipher_text += chr(adjusted)\n",
    "    \n",
    "    return cipher_text\n",
    "\n",
    "print(encrypt('Nybcnrw mrmwc truu qrvbnuo', -9))"
   ]
  },
  {
   "cell_type": "markdown",
   "metadata": {},
   "source": [
    "### Palindrome:"
   ]
  },
  {
   "cell_type": "markdown",
   "metadata": {},
   "source": [
    "Works with string as well."
   ]
  },
  {
   "cell_type": "code",
   "execution_count": 6,
   "metadata": {},
   "outputs": [
    {
     "data": {
      "text/plain": [
       "True"
      ]
     },
     "execution_count": 6,
     "metadata": {},
     "output_type": "execute_result"
    }
   ],
   "source": [
    "arr = ['r', 'a', 'c', 'e', 'c', 'a', 'r']\n",
    "arr2 = ['b', 'a', 'g']\n",
    "str = ('m', 'a', 'd', 'a', 'a', 'm')\n",
    "\n",
    "def pal(Arr):\n",
    "    L = 0\n",
    "    N = (len(Arr) - 1)\n",
    "    while L != N:\n",
    "        if Arr[L] != Arr[N]:\n",
    "            print('False')\n",
    "        L = L + 1\n",
    "        N = N - 1\n",
    "    return True\n",
    "\n",
    "pal()"
   ]
  },
  {
   "cell_type": "markdown",
   "metadata": {},
   "source": [
    "Here we have a solution found online. Reverse a string and then compare the two. It uses a splice operator [::-1] which reverses the string (First and second places denote starting and ending index points for splicing, the third place after the second colon denotes the size and direction of the step. *Explanation at bottom of NB). Could use old reverse array code instead of splice operator. I think the lesson here though was about navigating indexes though."
   ]
  },
  {
   "cell_type": "code",
   "execution_count": 15,
   "metadata": {},
   "outputs": [
    {
     "name": "stdout",
     "output_type": "stream",
     "text": [
      "Enter a string: poop\n",
      "Is Palindrome\n"
     ]
    }
   ],
   "source": [
    "s = input(\"Enter a string: \")\n",
    "l = (len(s) - 1)\n",
    "b = 0\n",
    "revstr = (s[:: -1])\n",
    "\n",
    "if revstr == s:\n",
    "    print('Is Palindrome')\n",
    "else:\n",
    "    print('Is not Palindrome')"
   ]
  },
  {
   "cell_type": "markdown",
   "metadata": {},
   "source": [
    "# Recursion:"
   ]
  },
  {
   "cell_type": "markdown",
   "metadata": {},
   "source": [
    "### Factorial:"
   ]
  },
  {
   "cell_type": "markdown",
   "metadata": {},
   "source": [
    "Iterative:"
   ]
  },
  {
   "cell_type": "code",
   "execution_count": 50,
   "metadata": {},
   "outputs": [
    {
     "name": "stdout",
     "output_type": "stream",
     "text": [
      "5040\n"
     ]
    }
   ],
   "source": [
    "def factorial(n):\n",
    "    answer = 1\n",
    "    while n > 1:\n",
    "        answer *= n\n",
    "        n -= 1\n",
    "    return answer\n",
    "\n",
    "print(factorial(7))"
   ]
  },
  {
   "cell_type": "markdown",
   "metadata": {},
   "source": [
    "below is a kind of visual representation of what the recursion is doing, then the cell after has the actual code."
   ]
  },
  {
   "cell_type": "markdown",
   "metadata": {},
   "source": [
    "Recursive:"
   ]
  },
  {
   "cell_type": "code",
   "execution_count": 26,
   "metadata": {},
   "outputs": [
    {
     "ename": "SyntaxError",
     "evalue": "invalid syntax (<ipython-input-26-d8252d776c64>, line 5)",
     "output_type": "error",
     "traceback": [
      "\u001b[1;36m  File \u001b[1;32m\"<ipython-input-26-d8252d776c64>\"\u001b[1;36m, line \u001b[1;32m5\u001b[0m\n\u001b[1;33m    return n * factorial_rec(n -1):\u001b[0m\n\u001b[1;37m                                  ^\u001b[0m\n\u001b[1;31mSyntaxError\u001b[0m\u001b[1;31m:\u001b[0m invalid syntax\n"
     ]
    }
   ],
   "source": [
    "   def factorial_rec(n):\n",
    "            if n <= 1:\n",
    "                return 1\n",
    "            else:\n",
    "                return n * factorial_rec(n -1):\n",
    "                           if n <= 1:\n",
    "                               return 1\n",
    "                           else:\n",
    "                                return n * factorial_rec(n -2):\n",
    "                                           if n <= 1:\n",
    "                                                return 1\n",
    "                                           else:\n",
    "                                                return n * factorial_rec(-3)"
   ]
  },
  {
   "cell_type": "code",
   "execution_count": 31,
   "metadata": {},
   "outputs": [
    {
     "name": "stdout",
     "output_type": "stream",
     "text": [
      "355687428096000\n"
     ]
    }
   ],
   "source": [
    "def factorial_rec(n):\n",
    "    if n <= 1:\n",
    "        return 1\n",
    "    else:\n",
    "        return n * factorial_rec(n - 1)\n",
    "\n",
    "print(factorial_rec(17))"
   ]
  },
  {
   "cell_type": "markdown",
   "metadata": {},
   "source": [
    "### Greatest common divisor:"
   ]
  },
  {
   "cell_type": "markdown",
   "metadata": {},
   "source": [
    "Iterative:"
   ]
  },
  {
   "cell_type": "code",
   "execution_count": 41,
   "metadata": {},
   "outputs": [
    {
     "name": "stdout",
     "output_type": "stream",
     "text": [
      "7\n"
     ]
    }
   ],
   "source": [
    "def euclid(a, b):\n",
    "    while b != 0:\n",
    "        temp = b\n",
    "        b = a%b\n",
    "        a = temp\n",
    "    return a\n",
    "\n",
    "print(euclid(35, 49))"
   ]
  },
  {
   "cell_type": "markdown",
   "metadata": {},
   "source": [
    "Recursive:"
   ]
  },
  {
   "cell_type": "code",
   "execution_count": 48,
   "metadata": {},
   "outputs": [
    {
     "name": "stdout",
     "output_type": "stream",
     "text": [
      "7\n"
     ]
    }
   ],
   "source": [
    "def euclid(a, b):\n",
    "    if b==0:\n",
    "        return a\n",
    "    else:\n",
    "        return euclid(b, a%b)\n",
    "\n",
    "print(euclid(35, 49))"
   ]
  },
  {
   "cell_type": "markdown",
   "metadata": {},
   "source": [
    "### Fibonacci -  Binary recursion:"
   ]
  },
  {
   "cell_type": "markdown",
   "metadata": {},
   "source": [
    "Iterative: Element at given index:"
   ]
  },
  {
   "cell_type": "code",
   "execution_count": 102,
   "metadata": {},
   "outputs": [
    {
     "name": "stdout",
     "output_type": "stream",
     "text": [
      "3\n"
     ]
    }
   ],
   "source": [
    "def fib(n):\n",
    "    i, n1, n2 = 1, 0, 1\n",
    "    while i < n:\n",
    "        temp = n1\n",
    "        n1 = n2\n",
    "        n2 = n1 + temp\n",
    "        i += 1\n",
    "    return n1 \n",
    "\n",
    "print(fib(5))"
   ]
  },
  {
   "cell_type": "markdown",
   "metadata": {},
   "source": [
    "Recursive: sum of elements:"
   ]
  },
  {
   "cell_type": "code",
   "execution_count": 99,
   "metadata": {},
   "outputs": [
    {
     "data": {
      "text/plain": [
       "5"
      ]
     },
     "execution_count": 99,
     "metadata": {},
     "output_type": "execute_result"
    }
   ],
   "source": [
    "def fib(n):\n",
    "    if n == 0:\n",
    "        return 0;\n",
    "    if n == 1:\n",
    "        return 1;\n",
    "    else:\n",
    "        return fib(n-1) + fib(n-2)\n",
    "\n",
    "fib(5)"
   ]
  },
  {
   "cell_type": "markdown",
   "metadata": {},
   "source": [
    "# Exercises:"
   ]
  },
  {
   "cell_type": "markdown",
   "metadata": {},
   "source": [
    "### Q1: Write an algorithm that returns the reverse of a given string:"
   ]
  },
  {
   "cell_type": "markdown",
   "metadata": {},
   "source": [
    "Below is my failed attempt."
   ]
  },
  {
   "cell_type": "code",
   "execution_count": 63,
   "metadata": {},
   "outputs": [
    {
     "ename": "SyntaxError",
     "evalue": "invalid syntax (<ipython-input-63-61def4e2b1ec>, line 3)",
     "output_type": "error",
     "traceback": [
      "\u001b[1;36m  File \u001b[1;32m\"<ipython-input-63-61def4e2b1ec>\"\u001b[1;36m, line \u001b[1;32m3\u001b[0m\n\u001b[1;33m    def rev(a[L]):\u001b[0m\n\u001b[1;37m             ^\u001b[0m\n\u001b[1;31mSyntaxError\u001b[0m\u001b[1;31m:\u001b[0m invalid syntax\n"
     ]
    }
   ],
   "source": [
    "s = input('Enter string: ')\n",
    "\n",
    "def rev(str):\n",
    "    L = (len(a)-1)\n",
    "    for i in a:\n",
    "        if a[L] != 0:\n",
    "            return rev(a[L-1])\n",
    "    print(i)\n",
    "        \n",
    "print(rev(s))"
   ]
  },
  {
   "cell_type": "markdown",
   "metadata": {},
   "source": [
    "His solution involves the use of splicing operators, which were never covered. Explanation at bottom of notebook."
   ]
  },
  {
   "cell_type": "code",
   "execution_count": 71,
   "metadata": {},
   "outputs": [
    {
     "name": "stdout",
     "output_type": "stream",
     "text": [
      "ykcutneK morf nam a saw ecno erehT\n"
     ]
    }
   ],
   "source": [
    "def reverse(str):\n",
    "    # Base case:\n",
    "    if str == '' or len(str) == 1:\n",
    "        return str\n",
    "    else:\n",
    "        return reverse(str[1: ]) + str[0]\n",
    "\n",
    "print(reverse('There once was a man from Kentucky'))"
   ]
  },
  {
   "cell_type": "code",
   "execution_count": 75,
   "metadata": {},
   "outputs": [
    {
     "data": {
      "text/plain": [
       "'cinimoD'"
      ]
     },
     "execution_count": 75,
     "metadata": {},
     "output_type": "execute_result"
    }
   ],
   "source": [
    "def reverse(arr):\n",
    "    if len(arr) == 0 or len(arr) == 1:\n",
    "        return arr\n",
    "    else:\n",
    "        return arr[ : :-1]\n",
    "\n",
    "reverse('Dominic')"
   ]
  },
  {
   "cell_type": "markdown",
   "metadata": {},
   "source": [
    "#### Q2. Write an algorithm that reverses an array in-place (i.e changes what is stored at each index), assume the input array contains numbers.\n"
   ]
  },
  {
   "cell_type": "code",
   "execution_count": 44,
   "metadata": {},
   "outputs": [
    {
     "ename": "SyntaxError",
     "evalue": "invalid syntax (<ipython-input-44-e80b46512dee>, line 6)",
     "output_type": "error",
     "traceback": [
      "\u001b[1;36m  File \u001b[1;32m\"<ipython-input-44-e80b46512dee>\"\u001b[1;36m, line \u001b[1;32m6\u001b[0m\n\u001b[1;33m    if arr[b] == arr[0]\u001b[0m\n\u001b[1;37m                       ^\u001b[0m\n\u001b[1;31mSyntaxError\u001b[0m\u001b[1;31m:\u001b[0m invalid syntax\n"
     ]
    }
   ],
   "source": [
    "arr = ['0', '1', '2', '3', '4', '5', '6', '7' '8','9']\n",
    "\n",
    "a = 0\n",
    "b = -1\n",
    "def rev(array):\n",
    "    if arr[b] == arr[0]\n",
    "        return arr[b]\n",
    "    else:\n",
    "        rev(array[::-1])\n",
    "print(rev(arr))"
   ]
  },
  {
   "cell_type": "code",
   "execution_count": 33,
   "metadata": {},
   "outputs": [
    {
     "name": "stdout",
     "output_type": "stream",
     "text": [
      "-1\n",
      "False\n",
      "None\n"
     ]
    }
   ],
   "source": [
    "arr = ['0', '1', '2', '3', '4', '5', '6', '7' '8','9']\n",
    "X = input()\n",
    "\n",
    "def check(array):\n",
    "    i = 0\n",
    "    e = (len(array) - 1)\n",
    "    if array[i] == X:\n",
    "        return ('True')\n",
    "    if array[i] == array[e]:\n",
    "        print ('False')\n",
    "    else:\n",
    "        return check(array[1::])\n",
    "\n",
    "print(check(arr))"
   ]
  },
  {
   "cell_type": "markdown",
   "metadata": {},
   "source": [
    "#### Q4. Write an algorithm that computes the sum of an array of numbers."
   ]
  },
  {
   "cell_type": "markdown",
   "metadata": {},
   "source": [
    "recursive:"
   ]
  },
  {
   "cell_type": "code",
   "execution_count": 1,
   "metadata": {},
   "outputs": [
    {
     "name": "stdout",
     "output_type": "stream",
     "text": [
      "108\n"
     ]
    }
   ],
   "source": [
    "arr = ['0', '1', '2', '3', '4', '5', '6', '7' '8','9']\n",
    "arr2 = ['1', '2', '3']\n",
    "\n",
    "def sum(array):\n",
    "    i = 0\n",
    "    e = (len(array)-1)\n",
    "    if array[i] == array[e]:\n",
    "        return array[i];\n",
    "    else:\n",
    "        return int(array[i]) + int(sum(array[1::]))\n",
    "\n",
    "print(sum(arr))"
   ]
  },
  {
   "cell_type": "markdown",
   "metadata": {},
   "source": [
    "#### Q5. Write an algorithm to produce calculate the Nth number in the Fibonacci sequence. Assume the sequence begins 0,1,1,2...."
   ]
  },
  {
   "cell_type": "code",
   "execution_count": 104,
   "metadata": {},
   "outputs": [
    {
     "name": "stdout",
     "output_type": "stream",
     "text": [
      "3\n"
     ]
    }
   ],
   "source": [
    "def fib(n):\n",
    "    if n == 0:\n",
    "        return 0;\n",
    "    if n == 1:\n",
    "        return 0;\n",
    "    if n == 2:\n",
    "        return 1;\n",
    "    else:\n",
    "        return fib(n-2) + fib(n-1)\n",
    "\n",
    "print(fib(5))"
   ]
  },
  {
   "cell_type": "code",
   "execution_count": 88,
   "metadata": {},
   "outputs": [
    {
     "name": "stdout",
     "output_type": "stream",
     "text": [
      "3\n"
     ]
    }
   ],
   "source": [
    "def fib(n):\n",
    "    i, n1, n2 = 1, 0, 1\n",
    "    while i != n:\n",
    "        temp = n1\n",
    "        n1 = n2\n",
    "        n2 = n1 + temp\n",
    "        i += 1\n",
    "    return n1\n",
    "\n",
    "print(fib(5))"
   ]
  },
  {
   "cell_type": "code",
   "execution_count": 126,
   "metadata": {},
   "outputs": [
    {
     "name": "stdout",
     "output_type": "stream",
     "text": [
      "True\n"
     ]
    }
   ],
   "source": [
    "str = ('m', 'a', 'd', 'a', 'm')\n",
    "str2 = ('p', 'o', 'o', 'o', 'p')\n",
    "\n",
    "def palindrome(string):\n",
    "    i = 0\n",
    "    e = len(string)-1\n",
    "    if string[i] != string[e]:\n",
    "        print(i, e)\n",
    "        return ('False')\n",
    "    if i >= e:\n",
    "        return ('True')\n",
    "    else:\n",
    "        return palindrome(string[i+1:(e+1)-1:])\n",
    "    \n",
    "print(palindrome(str2))"
   ]
  },
  {
   "cell_type": "markdown",
   "metadata": {},
   "source": [
    "#### 7. Given a number and a power, compute the result of the number raised to that power. For example 2^3 = 8.\n"
   ]
  },
  {
   "cell_type": "code",
   "execution_count": 130,
   "metadata": {},
   "outputs": [
    {
     "name": "stdout",
     "output_type": "stream",
     "text": [
      "10000000000\n"
     ]
    }
   ],
   "source": [
    "def power(n, p):\n",
    "    if p == 0:\n",
    "        return 1\n",
    "    if p == 1:\n",
    "        return n\n",
    "    else:\n",
    "        return n * power(n, p-1)\n",
    "\n",
    "print(power(10, 10))"
   ]
  },
  {
   "cell_type": "markdown",
   "metadata": {},
   "source": [
    "#### 8. Given a string and a substring, compute how many times that substring appears in the string. For example “he” appears twice in the string “her and herself”."
   ]
  },
  {
   "cell_type": "code",
   "execution_count": 142,
   "metadata": {},
   "outputs": [
    {
     "name": "stdout",
     "output_type": "stream",
     "text": [
      "None\n"
     ]
    }
   ],
   "source": [
    "string = (\"her and herself\")\n",
    "str = (\"he\")\n",
    "\n",
    "def sub(s, s2):\n",
    "    answer = 0\n",
    "    x = (len(s2)-1)\n",
    "    a = 0\n",
    "    if s[a:x:] == s2:\n",
    "        print('yes')\n",
    "        return answer + 1\n",
    "    else:\n",
    "        return answer + sub(s[a+1:x:], s2)\n",
    "\n",
    "print(sub(string, str))    "
   ]
  },
  {
   "cell_type": "code",
   "execution_count": 163,
   "metadata": {},
   "outputs": [
    {
     "name": "stdout",
     "output_type": "stream",
     "text": [
      "()\n",
      "None\n"
     ]
    }
   ],
   "source": [
    "def dupe(string):\n",
    "    newstring = ()\n",
    "    a = 0\n",
    "    b = 1\n",
    "    c = (len(string)-1)\n",
    "    if string[a] > string[c]:\n",
    "        return 0\n",
    "    if string[a] != string[b]:\n",
    "        newstring.append(a)\n",
    "        return dupe(string[1::])\n",
    "    print(newstring)\n",
    "\n",
    "print(dupe('aaabbccdd'))"
   ]
  },
  {
   "cell_type": "markdown",
   "metadata": {},
   "source": [
    "# Sorting algorithms:"
   ]
  },
  {
   "cell_type": "markdown",
   "metadata": {},
   "source": [
    "### Bubble sort"
   ]
  },
  {
   "cell_type": "markdown",
   "metadata": {},
   "source": [
    "#### Iterative:"
   ]
  },
  {
   "cell_type": "code",
   "execution_count": 184,
   "metadata": {},
   "outputs": [
    {
     "name": "stdout",
     "output_type": "stream",
     "text": [
      "[2, 3, 5, 6, 7, 8]\n"
     ]
    }
   ],
   "source": [
    "nums1 = [5, 3, 8, 6, 7, 2]\n",
    "\n",
    "def sort(nums):\n",
    "    for i in range(len(nums)-1, 0, -1):\n",
    "        for j in range(i):\n",
    "            if nums[j] > nums[j+1]:\n",
    "                temp = nums[j]\n",
    "                nums[j] = nums[j +1]\n",
    "                nums[j+1] = temp\n",
    "\n",
    "sort(nums1)\n",
    "print(nums1)"
   ]
  },
  {
   "cell_type": "markdown",
   "metadata": {},
   "source": [
    "#### Recursive:"
   ]
  },
  {
   "cell_type": "code",
   "execution_count": 183,
   "metadata": {},
   "outputs": [
    {
     "data": {
      "text/plain": [
       "[2, 3, 3, 6, 7, 8]"
      ]
     },
     "execution_count": 183,
     "metadata": {},
     "output_type": "execute_result"
    }
   ],
   "source": [
    "nums1 = [5, 3, 8, 6, 7, 2]\n",
    "\n",
    "def recbub(list, n):\n",
    "    if n == 1:\n",
    "        return list\n",
    "    for i in range(len(list)-1):\n",
    "        current = list[i]\n",
    "        next = list[i + 1]\n",
    "        if current > next:\n",
    "            list[i] = next\n",
    "            list[i +1] = current\n",
    "    return recbub(list, n-1)\n",
    "\n",
    "recbub(nums, len(nums))"
   ]
  },
  {
   "cell_type": "markdown",
   "metadata": {},
   "source": [
    "### selection sort"
   ]
  },
  {
   "cell_type": "markdown",
   "metadata": {},
   "source": [
    "#### Iterative:"
   ]
  },
  {
   "cell_type": "code",
   "execution_count": 187,
   "metadata": {},
   "outputs": [
    {
     "name": "stdout",
     "output_type": "stream",
     "text": [
      "[1, 1, 1, 2, 2, 3, 3, 4, 4, 4, 4, 4, 5, 5, 5, 5, 6, 6, 6, 6, 7, 7, 7, 8, 8, 8, 9, 9, 9]\n"
     ]
    }
   ],
   "source": [
    "def select(list_a):\n",
    "    indexing_length = range(0, len(list_a)-1)\n",
    "    \n",
    "    for i in indexing_length:\n",
    "        min_value = i\n",
    "        \n",
    "        for j in range(i+1, len(list_a)):\n",
    "            if list_a[j] < list_a[min_value]:\n",
    "                min_value = j\n",
    "                \n",
    "        if min_value != i:\n",
    "            list_a[min_value], list_a[i] = list_a[i], list_a[min_value]\n",
    "    \n",
    "    return list_a\n",
    "\n",
    "print(select([1,8,4,6,8,9,7,4,5,3,2,1,5,6,9,8,7,4,6,6,4,2,3,9,7,5,1,4,5]))"
   ]
  },
  {
   "cell_type": "markdown",
   "metadata": {},
   "source": [
    "### Insertion sort"
   ]
  },
  {
   "cell_type": "markdown",
   "metadata": {},
   "source": [
    "Iterative:"
   ]
  },
  {
   "cell_type": "code",
   "execution_count": 193,
   "metadata": {},
   "outputs": [
    {
     "name": "stdout",
     "output_type": "stream",
     "text": [
      "[1, 2, 2, 3, 4, 4, 4, 5, 5, 6, 6, 6, 7, 7, 8, 8, 8, 9, 9, 9]\n"
     ]
    }
   ],
   "source": [
    "def insertion_sort(list_a):\n",
    "    indexing_length = range(1, len(list_a))\n",
    "    \n",
    "    for i in indexing_length:\n",
    "        value_to_sort = list_a[i] \n",
    "        \n",
    "        # So we get our value to sort and compare it to the value on its immediate left.\n",
    "        # If it is smaller than that value, we switch the two.\n",
    "        # we then compare the next value to the left using 'i=i-1'\n",
    "        # once the value to the left < than value to sort, the while loop ends\n",
    "        # and then the for loop moves on to the next value in the list.\n",
    "        # ('i>0' to prevent negative indexing)\n",
    "        \n",
    "        while list_a[i-1] > value_to_sort and i>0:\n",
    "            list_a[i], list_a[i-1] = list_a[i-1],list_a[i]\n",
    "            i = i-1\n",
    "    \n",
    "    return list_a\n",
    "\n",
    "print(insertion_sort([9,5,6,7,3,4,1,8,9,5,6,4,9,2,8,2,6,4,7,8]))"
   ]
  },
  {
   "cell_type": "markdown",
   "metadata": {},
   "source": [
    "### Quick sort:"
   ]
  },
  {
   "cell_type": "markdown",
   "metadata": {},
   "source": [
    "Iterative with Tail Recursion:"
   ]
  },
  {
   "cell_type": "code",
   "execution_count": 194,
   "metadata": {},
   "outputs": [
    {
     "name": "stdout",
     "output_type": "stream",
     "text": [
      "[1, 1, 2, 2, 3, 3, 4, 4, 5, 5, 5, 5, 5, 6, 6, 6, 7, 7, 8, 8, 9, 9, 25]\n"
     ]
    }
   ],
   "source": [
    "def quick_sort(sequence):\n",
    "    length = len(sequence)\n",
    "    if length <= 1:\n",
    "        return sequence\n",
    "    else:\n",
    "        pivot = sequence.pop()\n",
    "        # pop operator removes last element and also returns it.\n",
    "        \n",
    "    items_greater = []\n",
    "    items_lower = []\n",
    "    \n",
    "    # First we sort the sequence into two groups either side of pivot\n",
    "    for item in sequence:\n",
    "        if item > pivot:\n",
    "            items_greater.append(item)\n",
    "        else:\n",
    "            items_lower.append(item)\n",
    "     \n",
    "    # Then we apply the same algorithm to each subset using recursion:\n",
    "    # This will repeat until our logic breaks (each length <= 1)\n",
    "    return quick_sort(items_lower) + [pivot] + quick_sort(items_greater)\n",
    " \n",
    "print(quick_sort([9,5,7,3,5,1,6,4,6,2,5,9,8,7,6,5,4,1,2,3,25,5,8]))"
   ]
  },
  {
   "cell_type": "markdown",
   "metadata": {},
   "source": [
    "#### Write a method which accepts two lists/arrays. The method should return the sum of the indexesof al the elements of the second array found in the first array."
   ]
  },
  {
   "cell_type": "code",
   "execution_count": null,
   "metadata": {},
   "outputs": [],
   "source": [
    "list_1 = [42, 12, 21, 30]\n",
    "input = [12, 30, 45]\n",
    "\n",
    "def sum_indexes(arr, arr2):\n",
    "    answer = 0\n",
    "    for i in arr:\n",
    "        for j in arr2: \n",
    "            if i == j:\n",
    "                x = arr.index(i)\n",
    "                answer =  answer + x\n",
    "    return answer\n",
    "\n",
    "print(sum_indexes(list_1, input))"
   ]
  },
  {
   "cell_type": "markdown",
   "metadata": {},
   "source": [
    "## Binary Search:"
   ]
  },
  {
   "cell_type": "code",
   "execution_count": 228,
   "metadata": {},
   "outputs": [
    {
     "name": "stdout",
     "output_type": "stream",
     "text": [
      "10\n"
     ]
    }
   ],
   "source": [
    "def binary_search(sequence, item):\n",
    "    begin_index = 0\n",
    "    end_index = len(sequence) - 1\n",
    "    \n",
    "    while begin_index <= end_index:\n",
    "        midpoint = begin_index + (end_index - begin_index) // 2\n",
    "        # // is division without a remainder\n",
    "        midpoint_value = sequence[midpoint]\n",
    "        if midpoint_value == item:\n",
    "            return midpoint\n",
    "        \n",
    "        elif item < midpoint_value:\n",
    "            end_index = midpoint - 1\n",
    "            \n",
    "        else:\n",
    "            begin_index = midpoint + 1\n",
    "    return None\n",
    "\n",
    "sequence_a = [1,2,3,4,5,6,7,9,11,12,15,17,18,20]\n",
    "item_a = 15\n",
    "\n",
    "print(binary_search(sequence_a, item_a))\n",
    "    "
   ]
  },
  {
   "cell_type": "markdown",
   "metadata": {},
   "source": [
    "# Slice operators:"
   ]
  },
  {
   "cell_type": "code",
   "execution_count": 86,
   "metadata": {},
   "outputs": [
    {
     "name": "stdout",
     "output_type": "stream",
     "text": [
      "internet!\n",
      "What's up\n",
      "Wa' pitre!\n",
      "!ert\n"
     ]
    }
   ],
   "source": [
    "# reverse a string::\n",
    "'string' [ : : -1]\n",
    "\n",
    "# here is the breakdown of slicing commands:\n",
    "# [start:stop:steps]\n",
    "\n",
    "# print everything after index 10\n",
    "str = \"What's up internet!\"\n",
    "print(str[10: : ])\n",
    "\n",
    "# print first four lines\n",
    "print(str[0: 9: ])\n",
    "\n",
    "# every second index\n",
    "print(str[::2])\n",
    "\n",
    "# Last 10 Backwards\n",
    "print(str[:10:-1])\n",
    "\n",
    "\n",
    "\n",
    "\n"
   ]
  },
  {
   "cell_type": "markdown",
   "metadata": {},
   "source": [
    "# Test Material:"
   ]
  },
  {
   "cell_type": "code",
   "execution_count": null,
   "metadata": {},
   "outputs": [],
   "source": [
    "def even_spaced(a,b,c):\n",
    "    nums = [a, b, c]\n",
    "\n",
    "    for i in range(len(nums)-1, 0, -1):\n",
    "        for j in range(i):\n",
    "            if nums[j] > nums[j+1]:\n",
    "                temp = nums[j]\n",
    "                nums[j] = nums[j +1]\n",
    "                nums[j+1] = temp\n",
    "    \n",
    "    for i in nums:\n",
    "        if nums[1] - nums[0] == nums[2] - nums[1]:\n",
    "            return True\n",
    "        else:\n",
    "            return False\n",
    "\n",
    "print(even_spaced(1, 19, 10))\n",
    "        \n"
   ]
  },
  {
   "cell_type": "code",
   "execution_count": 15,
   "metadata": {},
   "outputs": [
    {
     "name": "stdout",
     "output_type": "stream",
     "text": [
      "False\n"
     ]
    }
   ],
   "source": [
    "def score_diff(arr):\n",
    "    i = 0\n",
    "    x = 1\n",
    "    y = 2\n",
    "    if arr[x] - arr[i] == arr[y] -arr[x]:\n",
    "        return True\n",
    "    if arr[y] == arr[len(arr)-1]:\n",
    "        return False\n",
    "    else:\n",
    "        return score_diff(arr[1::])\n",
    "\n",
    "test = [12,24,27,29,33]\n",
    "    \n",
    "print(score_diff(test))"
   ]
  },
  {
   "cell_type": "code",
   "execution_count": null,
   "metadata": {},
   "outputs": [],
   "source": [
    "        a = x-i\n",
    "        b = y-x\n",
    "        if len(arr) <= 3:\n",
    "            return True\n",
    "        if a > 2:\n",
    "            return False\n",
    "        if a == b:\n",
    "            return True\n",
    "        if  == len(arr)-1:\n",
    "            return False\n",
    "        else:\n",
    "            i += 1\n",
    "\n",
    "test = [1,2,5,6]                \n",
    "                \n",
    "print(score_diff(test))"
   ]
  },
  {
   "cell_type": "code",
   "execution_count": 26,
   "metadata": {},
   "outputs": [
    {
     "name": "stdout",
     "output_type": "stream",
     "text": [
      "False\n"
     ]
    }
   ],
   "source": [
    "number = 2345678\n",
    "\n",
    "\n",
    "def has_one(n):\n",
    "    digits = []\n",
    "    while n > 0:\n",
    "        digits.append(n%10)\n",
    "        n = (n - n%10) // 10\n",
    "    \n",
    "    for i in digits:\n",
    "        if i == 1:\n",
    "            return True\n",
    "    return False\n",
    "        \n",
    "        \n",
    "\n",
    "        \n",
    "print(has_one(number))\n",
    "        "
   ]
  },
  {
   "cell_type": "code",
   "execution_count": null,
   "metadata": {},
   "outputs": [],
   "source": []
  }
 ],
 "metadata": {
  "kernelspec": {
   "display_name": "Python 3",
   "language": "python",
   "name": "python3"
  },
  "language_info": {
   "codemirror_mode": {
    "name": "ipython",
    "version": 3
   },
   "file_extension": ".py",
   "mimetype": "text/x-python",
   "name": "python",
   "nbconvert_exporter": "python",
   "pygments_lexer": "ipython3",
   "version": "3.8.3"
  }
 },
 "nbformat": 4,
 "nbformat_minor": 4
}
